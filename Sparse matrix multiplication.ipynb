{
 "cells": [
  {
   "cell_type": "code",
   "execution_count": 1,
   "id": "6d0a436c",
   "metadata": {},
   "outputs": [
    {
     "name": "stdout",
     "output_type": "stream",
     "text": [
      "csc matrix: \n",
      " [[4 7 0]\n",
      " [8 0 0]\n",
      " [0 1 0]]\n",
      "csr matrix:\n",
      " [[5 0 0]\n",
      " [2 9 0]\n",
      " [1 0 0]]\n",
      "Product csc with csr Matrix:\n",
      " [[20  0  0]\n",
      " [16  0  0]\n",
      " [ 0  0  0]]\n",
      "Product csr with csc Matrix:\n",
      " [[20  0  0]\n",
      " [16  0  0]\n",
      " [ 0  0  0]]\n"
     ]
    }
   ],
   "source": [
    "import numpy as np\n",
    "from scipy.sparse import csc_matrix\n",
    "from scipy.sparse import csr_matrix\n",
    "\n",
    "row_A = np.array([0, 0, 1, 2 ])\n",
    "col_A = np.array([0, 1, 0, 1])\n",
    "data_A = np.array([4, 7, 8, 1])\n",
    "\n",
    "cscMatrix = csc_matrix((data_A, (row_A, col_A)),shape = (3, 3))\n",
    "\n",
    "\n",
    "print(\"csc matrix: \\n\", cscMatrix.toarray())\n",
    "\n",
    "\n",
    "row_B = np.array([0, 1, 1, 2 ])\n",
    "col_B = np.array([0, 0, 1, 0])\n",
    "data_B = np.array([5, 2, 9, 1])\n",
    "\n",
    "csrMatrix_B = csr_matrix((data_B, (row_B, col_B)),shape = (3, 3))\n",
    "\n",
    "\n",
    "print(\"csr matrix:\\n\", csrMatrix_B.toarray())\n",
    "\n",
    "sparseMatrix = cscMatrix.multiply(csrMatrix_B)\n",
    "\n",
    "print(\"Product csc with csr Matrix:\\n\",\n",
    "\tsparseMatrix.toarray() )\n",
    "\n",
    "\n",
    "sparseMatrix = csrMatrix_B.multiply(cscMatrix)\n",
    "\n",
    "print(\"Product csr with csc Matrix:\\n\", sparseMatrix.toarray() )"
   ]
  },
  {
   "cell_type": "code",
   "execution_count": null,
   "id": "4f4e41c5",
   "metadata": {},
   "outputs": [],
   "source": []
  }
 ],
 "metadata": {
  "kernelspec": {
   "display_name": "Python 3 (ipykernel)",
   "language": "python",
   "name": "python3"
  },
  "language_info": {
   "codemirror_mode": {
    "name": "ipython",
    "version": 3
   },
   "file_extension": ".py",
   "mimetype": "text/x-python",
   "name": "python",
   "nbconvert_exporter": "python",
   "pygments_lexer": "ipython3",
   "version": "3.9.7"
  }
 },
 "nbformat": 4,
 "nbformat_minor": 5
}
