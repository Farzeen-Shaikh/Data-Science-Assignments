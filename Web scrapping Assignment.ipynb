{
 "cells": [
  {
   "cell_type": "code",
   "execution_count": 1,
   "id": "e2e83e45",
   "metadata": {},
   "outputs": [],
   "source": [
    "import bs4\n",
    "from bs4 import BeautifulSoup as bs\n",
    "import requests\n"
   ]
  },
  {
   "cell_type": "code",
   "execution_count": 2,
   "id": "7276e963",
   "metadata": {},
   "outputs": [],
   "source": [
    "link='https://www.flipkart.com/search?q=tv&as=on&as-show=on&otracker=AS_Query_TrendingAutoSuggest_8_0_na_na_na&otracker1=AS_Query_TrendingAutoSuggest_8_0_na_na_na&as-pos=8&as-type=TRENDING&suggestionId=tv&requestId=9c9fa553-b7e5-454b-a65b-bbb7a9c74a29'\n"
   ]
  },
  {
   "cell_type": "code",
   "execution_count": 19,
   "id": "9ef3aa5c",
   "metadata": {},
   "outputs": [],
   "source": [
    "page = requests.get(link)"
   ]
  },
  {
   "cell_type": "code",
   "execution_count": null,
   "id": "35edb223",
   "metadata": {},
   "outputs": [],
   "source": []
  },
  {
   "cell_type": "code",
   "execution_count": 20,
   "id": "04da0bbb",
   "metadata": {},
   "outputs": [],
   "source": [
    "soup = bs(page.content, 'html.parser')\n",
    "#it gives us the visual representation of data\n"
   ]
  },
  {
   "cell_type": "code",
   "execution_count": 6,
   "id": "426c768d",
   "metadata": {},
   "outputs": [
    {
     "name": "stdout",
     "output_type": "stream",
     "text": [
      "<div class=\"_4rR01T\">Thomson 9A Series 106 cm (42 inch) Full HD LED Smart Android TV</div>\n"
     ]
    }
   ],
   "source": [
    "name=soup.find('div',class_=\"_4rR01T\")\n",
    "print(name)"
   ]
  },
  {
   "cell_type": "code",
   "execution_count": 7,
   "id": "ee0802f9",
   "metadata": {},
   "outputs": [
    {
     "data": {
      "text/plain": [
       "'Thomson 9A Series 106 cm (42 inch) Full HD LED Smart Android TV'"
      ]
     },
     "execution_count": 7,
     "metadata": {},
     "output_type": "execute_result"
    }
   ],
   "source": [
    "# to get just the name we will use the below code\n",
    "name.text"
   ]
  },
  {
   "cell_type": "code",
   "execution_count": 8,
   "id": "451c5340",
   "metadata": {},
   "outputs": [
    {
     "name": "stdout",
     "output_type": "stream",
     "text": [
      "<div class=\"_3LWZlK\">4.4<img class=\"_1wB99o\" src=\"data:image/svg+xml;base64,PHN2ZyB4bWxucz0iaHR0cDovL3d3dy53My5vcmcvMjAwMC9zdmciIHdpZHRoPSIxMyIgaGVpZ2h0PSIxMiI+PHBhdGggZmlsbD0iI0ZGRiIgZD0iTTYuNSA5LjQzOWwtMy42NzQgMi4yMy45NC00LjI2LTMuMjEtMi44ODMgNC4yNTQtLjQwNEw2LjUuMTEybDEuNjkgNC4wMSA0LjI1NC40MDQtMy4yMSAyLjg4Mi45NCA0LjI2eiIvPjwvc3ZnPg==\"/></div>\n"
     ]
    },
    {
     "data": {
      "text/plain": [
       "'4.4'"
      ]
     },
     "execution_count": 8,
     "metadata": {},
     "output_type": "execute_result"
    }
   ],
   "source": [
    "#get rating of a product\n",
    "rating=soup.find('div',class_=\"_3LWZlK\")\n",
    "print(rating)\n",
    "rating.text"
   ]
  },
  {
   "cell_type": "code",
   "execution_count": 9,
   "id": "a86f84be",
   "metadata": {},
   "outputs": [
    {
     "name": "stdout",
     "output_type": "stream",
     "text": [
      "<div class=\"fMghEO\"><ul class=\"_1xgFaf\"><li class=\"rgWa7D\">Prime Video|Disney+Hotstar|Youtube</li><li class=\"rgWa7D\">Operating System: Android</li><li class=\"rgWa7D\">Full HD 1920 x 1080 Pixels</li><li class=\"rgWa7D\">30 W Speaker Output</li><li class=\"rgWa7D\">60 Hz Refresh Rate</li><li class=\"rgWa7D\">3 x HDMI | 2 x USB</li><li class=\"rgWa7D\">IPS</li><li class=\"rgWa7D\">1 Year Warranty on Product &amp; 6 Months on Accessories</li></ul></div>\n"
     ]
    },
    {
     "data": {
      "text/plain": [
       "'Prime Video|Disney+Hotstar|YoutubeOperating System: AndroidFull HD 1920 x 1080 Pixels30 W Speaker Output60 Hz Refresh Rate3 x HDMI | 2 x USBIPS1 Year Warranty on Product & 6 Months on Accessories'"
      ]
     },
     "execution_count": 9,
     "metadata": {},
     "output_type": "execute_result"
    }
   ],
   "source": [
    "#get other details and specifications of the product\n",
    "specification=soup.find('div',class_=\"fMghEO\")\n",
    "print(specification)\n",
    "specification.text"
   ]
  },
  {
   "cell_type": "code",
   "execution_count": 10,
   "id": "3fb89076",
   "metadata": {},
   "outputs": [
    {
     "name": "stdout",
     "output_type": "stream",
     "text": [
      "Prime Video|Disney+Hotstar|Youtube\n",
      "Operating System: Android\n",
      "Full HD 1920 x 1080 Pixels\n",
      "60 Hz Refresh Rate\n",
      "3 x HDMI | 2 x USB\n",
      "1 Year Warranty on Product & 6 Months on Accessories\n"
     ]
    }
   ],
   "source": [
    "for each in specification:\n",
    "    spec=each.find_all('li',class_='rgWa7D')\n",
    "    print(spec[0].text)\n",
    "    print(spec[1].text)\n",
    "    print(spec[2].text)\n",
    "    print(spec[4].text)\n",
    "    print(spec[5].text)\n",
    "    print(spec[7].text)\n"
   ]
  },
  {
   "cell_type": "code",
   "execution_count": 11,
   "id": "6ea5a49f",
   "metadata": {},
   "outputs": [
    {
     "name": "stdout",
     "output_type": "stream",
     "text": [
      "<div class=\"_30jeq3 _1_WHN1\">₹17,999</div>\n"
     ]
    },
    {
     "data": {
      "text/plain": [
       "'₹17,999'"
      ]
     },
     "execution_count": 11,
     "metadata": {},
     "output_type": "execute_result"
    }
   ],
   "source": [
    "#get price of the product\n",
    "price=soup.find('div',class_='_30jeq3 _1_WHN1')\n",
    "print(price)\n",
    "price.text"
   ]
  },
  {
   "cell_type": "code",
   "execution_count": 12,
   "id": "b44de76c",
   "metadata": {},
   "outputs": [],
   "source": [
    "products=[]              #List to store the name of the product\n",
    "prices=[]                #List to store price of the product\n",
    "ratings=[]               #List to store rating of the product\n",
    "apps = []                #List to store supported apps                \n",
    "os = []                  #List to store operating system\n",
    "hd = []                  #List to store resolution\n",
    "sound = []               #List to store sound output"
   ]
  },
  {
   "cell_type": "code",
   "execution_count": 13,
   "id": "c31b37fb",
   "metadata": {},
   "outputs": [],
   "source": [
    "for data in soup.findAll('div',class_='_3pLy-c row'):\n",
    "        names=data.find('div', attrs={'class':'_4rR01T'})\n",
    "        price=data.find('div', attrs={'class':'_30jeq3 _1_WHN1'})\n",
    "        rating=data.find('div', attrs={'class':'_3LWZlK'})\n",
    "        specification = data.find('div', attrs={'class':'fMghEO'})\n",
    "        \n",
    "        for each in specification:\n",
    "            col=each.find_all('li', attrs={'class':'rgWa7D'})\n",
    "            app =col[0].text\n",
    "            os_ = col[1].text\n",
    "            hd_ = col[2].text\n",
    "            sound_ = col[3].text\n",
    "            \n",
    "        products.append(names.text) # Add product name to list\n",
    "        prices.append(price.text) # Add price to list\n",
    "        apps.append(app)# Add supported apps specifications to list\n",
    "        os.append(os_) # Add operating system specifications to list\n",
    "        hd.append(hd_) # Add resolution specifications to list\n",
    "        sound.append(sound_) # Add sound specifications to list\n",
    "        ratings.append(rating.text)   #Add rating specifications to list\n"
   ]
  },
  {
   "cell_type": "code",
   "execution_count": 15,
   "id": "22d37a0c",
   "metadata": {},
   "outputs": [
    {
     "name": "stdout",
     "output_type": "stream",
     "text": [
      "24\n",
      "24\n",
      "24\n",
      "24\n",
      "24\n",
      "24\n",
      "24\n"
     ]
    }
   ],
   "source": [
    "#printing the length of list\n",
    "print(len(products))\n",
    "print(len(ratings))\n",
    "print(len(prices))\n",
    "print(len(apps))\n",
    "print(len(sound))\n",
    "print(len(os))\n",
    "print(len(hd))"
   ]
  },
  {
   "cell_type": "code",
   "execution_count": 21,
   "id": "462c53b7",
   "metadata": {},
   "outputs": [
    {
     "data": {
      "text/html": [
       "<div>\n",
       "<style scoped>\n",
       "    .dataframe tbody tr th:only-of-type {\n",
       "        vertical-align: middle;\n",
       "    }\n",
       "\n",
       "    .dataframe tbody tr th {\n",
       "        vertical-align: top;\n",
       "    }\n",
       "\n",
       "    .dataframe thead th {\n",
       "        text-align: right;\n",
       "    }\n",
       "</style>\n",
       "<table border=\"1\" class=\"dataframe\">\n",
       "  <thead>\n",
       "    <tr style=\"text-align: right;\">\n",
       "      <th></th>\n",
       "      <th>Product Name</th>\n",
       "      <th>Supported_apps</th>\n",
       "      <th>sound_system</th>\n",
       "      <th>OS</th>\n",
       "      <th>Resolution</th>\n",
       "      <th>Price</th>\n",
       "      <th>Rating</th>\n",
       "    </tr>\n",
       "  </thead>\n",
       "  <tbody>\n",
       "    <tr>\n",
       "      <th>0</th>\n",
       "      <td>Thomson 9A Series 106 cm (42 inch) Full HD LED...</td>\n",
       "      <td>Prime Video|Disney+Hotstar|Youtube</td>\n",
       "      <td>30 W Speaker Output</td>\n",
       "      <td>Operating System: Android</td>\n",
       "      <td>Full HD 1920 x 1080 Pixels</td>\n",
       "      <td>₹17,999</td>\n",
       "      <td>4.4</td>\n",
       "    </tr>\n",
       "    <tr>\n",
       "      <th>1</th>\n",
       "      <td>Adsun 80 cm (32 inch) HD Ready LED Smart TV</td>\n",
       "      <td>Netflix|Disney+Hotstar|Youtube</td>\n",
       "      <td>20 W Speaker Output</td>\n",
       "      <td>Operating System: Android Based</td>\n",
       "      <td>HD Ready 1366 x 768 Pixels</td>\n",
       "      <td>₹8,799</td>\n",
       "      <td>3.8</td>\n",
       "    </tr>\n",
       "    <tr>\n",
       "      <th>2</th>\n",
       "      <td>realme 80 cm (32 inch) HD Ready LED Smart Andr...</td>\n",
       "      <td>Netflix|Prime Video|Disney+Hotstar|Youtube</td>\n",
       "      <td>24 W Speaker Output</td>\n",
       "      <td>Operating System: Android</td>\n",
       "      <td>HD Ready 1366 x 768 Pixels</td>\n",
       "      <td>₹13,499</td>\n",
       "      <td>4.3</td>\n",
       "    </tr>\n",
       "    <tr>\n",
       "      <th>3</th>\n",
       "      <td>OnePlus Y1 80 cm (32 inch) HD Ready LED Smart ...</td>\n",
       "      <td>Netflix|Prime Video|Disney+Hotstar|Youtube</td>\n",
       "      <td>20 W Speaker Output</td>\n",
       "      <td>Operating System: Android</td>\n",
       "      <td>HD Ready 1366 x 768 Pixels</td>\n",
       "      <td>₹14,499</td>\n",
       "      <td>4.3</td>\n",
       "    </tr>\n",
       "    <tr>\n",
       "      <th>4</th>\n",
       "      <td>SAMSUNG 80 cm (32 inch) HD Ready LED Smart TV</td>\n",
       "      <td>Netflix|Disney+Hotstar|Youtube</td>\n",
       "      <td>20 W Speaker Output</td>\n",
       "      <td>Operating System: Tizen</td>\n",
       "      <td>HD Ready 1366 x 768 Pixels</td>\n",
       "      <td>₹16,499</td>\n",
       "      <td>4.4</td>\n",
       "    </tr>\n",
       "    <tr>\n",
       "      <th>5</th>\n",
       "      <td>LG 80 cm (32 inch) HD Ready LED Smart TV</td>\n",
       "      <td>Netflix|Prime Video|Disney+Hotstar|Youtube</td>\n",
       "      <td>10 W Speaker Output</td>\n",
       "      <td>Operating System: WebOS</td>\n",
       "      <td>HD Ready 1366 x 768 Pixels</td>\n",
       "      <td>₹17,490</td>\n",
       "      <td>4.4</td>\n",
       "    </tr>\n",
       "    <tr>\n",
       "      <th>6</th>\n",
       "      <td>realme 108 cm (43 inch) Ultra HD (4K) LED Smar...</td>\n",
       "      <td>Netflix|Prime Video|Disney+Hotstar|Youtube</td>\n",
       "      <td>24 W Speaker Output</td>\n",
       "      <td>Operating System: Android</td>\n",
       "      <td>Ultra HD (4K) 3840 x 2160 Pixels</td>\n",
       "      <td>₹25,990</td>\n",
       "      <td>4.3</td>\n",
       "    </tr>\n",
       "    <tr>\n",
       "      <th>7</th>\n",
       "      <td>Adsun 80 cm (32 inch) HD Ready LED TV</td>\n",
       "      <td>HD Ready 1366 x 768 Pixels</td>\n",
       "      <td>2 x HDMI | 2 x USB</td>\n",
       "      <td>20 W Speaker Output</td>\n",
       "      <td>60 Hz Refresh Rate</td>\n",
       "      <td>₹7,649</td>\n",
       "      <td>3.8</td>\n",
       "    </tr>\n",
       "    <tr>\n",
       "      <th>8</th>\n",
       "      <td>Mi 5X 108 cm (43 inch) Ultra HD (4K) LED Smart...</td>\n",
       "      <td>Netflix|Prime Video|Disney+Hotstar|Youtube</td>\n",
       "      <td>30 W Speaker Output</td>\n",
       "      <td>Operating System: Android</td>\n",
       "      <td>Ultra HD (4K) 3840 x 2160 Pixels</td>\n",
       "      <td>₹29,999</td>\n",
       "      <td>4.3</td>\n",
       "    </tr>\n",
       "    <tr>\n",
       "      <th>9</th>\n",
       "      <td>Mi 4X 125.7 cm (50 inch) Ultra HD (4K) LED Sma...</td>\n",
       "      <td>Netflix|Disney+Hotstar|Youtube</td>\n",
       "      <td>20 W Speaker Output</td>\n",
       "      <td>Operating System: Android</td>\n",
       "      <td>Ultra HD (4K) 3840 x 2160 Pixels</td>\n",
       "      <td>₹29,990</td>\n",
       "      <td>4.4</td>\n",
       "    </tr>\n",
       "  </tbody>\n",
       "</table>\n",
       "</div>"
      ],
      "text/plain": [
       "                                        Product Name  \\\n",
       "0  Thomson 9A Series 106 cm (42 inch) Full HD LED...   \n",
       "1        Adsun 80 cm (32 inch) HD Ready LED Smart TV   \n",
       "2  realme 80 cm (32 inch) HD Ready LED Smart Andr...   \n",
       "3  OnePlus Y1 80 cm (32 inch) HD Ready LED Smart ...   \n",
       "4      SAMSUNG 80 cm (32 inch) HD Ready LED Smart TV   \n",
       "5           LG 80 cm (32 inch) HD Ready LED Smart TV   \n",
       "6  realme 108 cm (43 inch) Ultra HD (4K) LED Smar...   \n",
       "7              Adsun 80 cm (32 inch) HD Ready LED TV   \n",
       "8  Mi 5X 108 cm (43 inch) Ultra HD (4K) LED Smart...   \n",
       "9  Mi 4X 125.7 cm (50 inch) Ultra HD (4K) LED Sma...   \n",
       "\n",
       "                               Supported_apps         sound_system  \\\n",
       "0          Prime Video|Disney+Hotstar|Youtube  30 W Speaker Output   \n",
       "1              Netflix|Disney+Hotstar|Youtube  20 W Speaker Output   \n",
       "2  Netflix|Prime Video|Disney+Hotstar|Youtube  24 W Speaker Output   \n",
       "3  Netflix|Prime Video|Disney+Hotstar|Youtube  20 W Speaker Output   \n",
       "4              Netflix|Disney+Hotstar|Youtube  20 W Speaker Output   \n",
       "5  Netflix|Prime Video|Disney+Hotstar|Youtube  10 W Speaker Output   \n",
       "6  Netflix|Prime Video|Disney+Hotstar|Youtube  24 W Speaker Output   \n",
       "7                  HD Ready 1366 x 768 Pixels   2 x HDMI | 2 x USB   \n",
       "8  Netflix|Prime Video|Disney+Hotstar|Youtube  30 W Speaker Output   \n",
       "9              Netflix|Disney+Hotstar|Youtube  20 W Speaker Output   \n",
       "\n",
       "                                OS                        Resolution    Price  \\\n",
       "0        Operating System: Android        Full HD 1920 x 1080 Pixels  ₹17,999   \n",
       "1  Operating System: Android Based        HD Ready 1366 x 768 Pixels   ₹8,799   \n",
       "2        Operating System: Android        HD Ready 1366 x 768 Pixels  ₹13,499   \n",
       "3        Operating System: Android        HD Ready 1366 x 768 Pixels  ₹14,499   \n",
       "4          Operating System: Tizen        HD Ready 1366 x 768 Pixels  ₹16,499   \n",
       "5          Operating System: WebOS        HD Ready 1366 x 768 Pixels  ₹17,490   \n",
       "6        Operating System: Android  Ultra HD (4K) 3840 x 2160 Pixels  ₹25,990   \n",
       "7              20 W Speaker Output                60 Hz Refresh Rate   ₹7,649   \n",
       "8        Operating System: Android  Ultra HD (4K) 3840 x 2160 Pixels  ₹29,999   \n",
       "9        Operating System: Android  Ultra HD (4K) 3840 x 2160 Pixels  ₹29,990   \n",
       "\n",
       "  Rating  \n",
       "0    4.4  \n",
       "1    3.8  \n",
       "2    4.3  \n",
       "3    4.3  \n",
       "4    4.4  \n",
       "5    4.4  \n",
       "6    4.3  \n",
       "7    3.8  \n",
       "8    4.3  \n",
       "9    4.4  "
      ]
     },
     "execution_count": 21,
     "metadata": {},
     "output_type": "execute_result"
    }
   ],
   "source": [
    "import pandas as pd\n",
    "df=pd.DataFrame({'Product Name':products,'Supported_apps':apps,'sound_system':sound,'OS':os,\"Resolution\":hd,'Price':prices,'Rating':ratings})\n",
    "df.head(10)"
   ]
  },
  {
   "cell_type": "code",
   "execution_count": null,
   "id": "13e8fe12",
   "metadata": {},
   "outputs": [],
   "source": []
  }
 ],
 "metadata": {
  "kernelspec": {
   "display_name": "Python 3 (ipykernel)",
   "language": "python",
   "name": "python3"
  },
  "language_info": {
   "codemirror_mode": {
    "name": "ipython",
    "version": 3
   },
   "file_extension": ".py",
   "mimetype": "text/x-python",
   "name": "python",
   "nbconvert_exporter": "python",
   "pygments_lexer": "ipython3",
   "version": "3.9.7"
  }
 },
 "nbformat": 4,
 "nbformat_minor": 5
}
